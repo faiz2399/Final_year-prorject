{
 "cells": [
  {
   "cell_type": "code",
   "execution_count": null,
   "metadata": {},
   "outputs": [],
   "source": [
    "import numpy as np\n",
    "import pandas as pd\n",
    "import seaborn as sns\n",
    "\n",
    "import matplotlib.pyplot as plt \n",
    "%matplotlib inline\n",
    "\n",
    "np.random.seed(0)\n"
   ]
  },
  {
   "cell_type": "code",
   "execution_count": null,
   "metadata": {},
   "outputs": [],
   "source": [
    "x1 = np.random.randint(1,100, size =25)\n",
    "y1 = np.random.randint(1,100, size =25)\n",
    "\n",
    "x2 = np.random.randint(400,600, size =25)\n",
    "y2 = np.random.randint(400,600, size =25)\n",
    "\n",
    "x3 = np.random.randint(800,900, size =25)\n",
    "y3 = np.random.randint(800,900, size =25)"
   ]
  },
  {
   "cell_type": "code",
   "execution_count": null,
   "metadata": {},
   "outputs": [],
   "source": [
    "df1 = pd.DataFrame({'x':x1,'y':y1})"
   ]
  },
  {
   "cell_type": "code",
   "execution_count": null,
   "metadata": {},
   "outputs": [],
   "source": [
    "df2 = pd.DataFrame({'x':x2,'y':y2})\n",
    "df3 = pd.DataFrame({'x':x3,'y':y3})\n"
   ]
  },
  {
   "cell_type": "code",
   "execution_count": null,
   "metadata": {},
   "outputs": [],
   "source": [
    "df = pd.concat([df1,df2,df3])"
   ]
  },
  {
   "cell_type": "code",
   "execution_count": null,
   "metadata": {},
   "outputs": [],
   "source": [
    "df.loc[len(df.index)] = [275, 600]"
   ]
  },
  {
   "cell_type": "code",
   "execution_count": null,
   "metadata": {},
   "outputs": [],
   "source": [
    "list = ['product' for i in range(75)]\n",
    "list.append('robot')\n",
    "df['class'] = list"
   ]
  },
  {
   "cell_type": "code",
   "execution_count": null,
   "metadata": {},
   "outputs": [],
   "source": [
    "sns.scatterplot('x','y', data =df,s=100,hue='class')"
   ]
  },
  {
   "cell_type": "code",
   "execution_count": null,
   "metadata": {},
   "outputs": [],
   "source": [
    "x11 = np.random.randint(1,100, size =4)\n",
    "y11 = np.random.randint(1,100, size =4)\n",
    "\n",
    "x22 = np.random.randint(400,600, size =4)\n",
    "y22 = np.random.randint(400,600, size =4)\n",
    "\n",
    "x33 = np.random.randint(800,900, size =4)\n",
    "y33 = np.random.randint(800,900, size =4)"
   ]
  },
  {
   "cell_type": "code",
   "execution_count": null,
   "metadata": {},
   "outputs": [],
   "source": [
    "# list1 = ['product' for i in range(12)]\n",
    "# list1.append('product')\n",
    "# dff['class'] = list1\n"
   ]
  },
  {
   "cell_type": "code",
   "execution_count": null,
   "metadata": {},
   "outputs": [],
   "source": [
    "df11 = pd.DataFrame({'x11':x11,'y11':y11})\n",
    "df22 = pd.DataFrame({'x11':x22,'y11':y22})\n",
    "df33 = pd.DataFrame({'x11':x33,'y11':y33})\n",
    "dff = pd.concat([df11,df22,df33], ignore_index=True)\n",
    "list1 = ['product' for i in range(12)]\n",
    "dff['class'] = list1\n",
    "\n",
    "dic = {'x11':[400,750,140],'y11':[400,800,100], 'class':['robot','robot','robot']}\n",
    "a = pd.DataFrame(dic)\n",
    "dff = pd.concat([dff,a],ignore_index=True)\n",
    "dff"
   ]
  },
  {
   "cell_type": "code",
   "execution_count": null,
   "metadata": {},
   "outputs": [],
   "source": [
    "sns.scatterplot('x11','y11', data =dff,s=100,hue='class')"
   ]
  },
  {
   "cell_type": "code",
   "execution_count": null,
   "metadata": {},
   "outputs": [],
   "source": []
  },
  {
   "cell_type": "code",
   "execution_count": null,
   "metadata": {},
   "outputs": [],
   "source": []
  }
 ],
 "metadata": {
  "kernelspec": {
   "display_name": "Python 3",
   "language": "python",
   "name": "python3"
  },
  "language_info": {
   "codemirror_mode": {
    "name": "ipython",
    "version": 3
   },
   "file_extension": ".py",
   "mimetype": "text/x-python",
   "name": "python",
   "nbconvert_exporter": "python",
   "pygments_lexer": "ipython3",
   "version": "3.7.3"
  }
 },
 "nbformat": 4,
 "nbformat_minor": 4
}
